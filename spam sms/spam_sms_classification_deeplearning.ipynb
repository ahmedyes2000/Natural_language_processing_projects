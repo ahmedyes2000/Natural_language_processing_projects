{
  "nbformat": 4,
  "nbformat_minor": 0,
  "metadata": {
    "kernelspec": {
      "display_name": "Python 3",
      "language": "python",
      "name": "python3"
    },
    "language_info": {
      "codemirror_mode": {
        "name": "ipython",
        "version": 3
      },
      "file_extension": ".py",
      "mimetype": "text/x-python",
      "name": "python",
      "nbconvert_exporter": "python",
      "pygments_lexer": "ipython3",
      "version": "3.7.6"
    },
    "colab": {
      "name": "spam-sms-classification-deeplearning.ipynb",
      "provenance": [],
      "include_colab_link": true
    }
  },
  "cells": [
    {
      "cell_type": "markdown",
      "metadata": {
        "id": "view-in-github",
        "colab_type": "text"
      },
      "source": [
        "<a href=\"https://colab.research.google.com/github/ashishshaji/Natural_language_processing_projects/blob/master/spam%20sms/spam_sms_classification_deeplearning.ipynb\" target=\"_parent\"><img src=\"https://colab.research.google.com/assets/colab-badge.svg\" alt=\"Open In Colab\"/></a>"
      ]
    },
    {
      "cell_type": "markdown",
      "metadata": {
        "id": "JxeGxFBB_5ii",
        "colab_type": "text"
      },
      "source": [
        "# SPAM MESSAGE CLASSIFICATION \n",
        "![](https://appliedmachinelearning.files.wordpress.com/2017/01/spam-filter.png?w=620)\n",
        "Classifiying messages into spam or not spam by natural language processing using deep  learning\n",
        "the below model is able to attain accuracy around 98.6% in classification"
      ]
    },
    {
      "cell_type": "markdown",
      "metadata": {
        "id": "nhDLoWw3_5ik",
        "colab_type": "text"
      },
      "source": [
        "# load and read the dataset"
      ]
    },
    {
      "cell_type": "code",
      "metadata": {
        "_cell_guid": "79c7e3d0-c299-4dcb-8224-4455121ee9b0",
        "_uuid": "d629ff2d2480ee46fbb7e2d37f6b5fab8052498a",
        "id": "TLB0snhK_5il",
        "colab_type": "code",
        "colab": {}
      },
      "source": [
        "#importing libaries \n",
        "import pandas as pd\n",
        "import numpy as np\n",
        "import matplotlib.pyplot as plt\n",
        "import seaborn as sns\n",
        "\n",
        "%matplotlib inline\n",
        "sns.set_style(\"darkgrid\")\n"
      ],
      "execution_count": null,
      "outputs": []
    },
    {
      "cell_type": "code",
      "metadata": {
        "id": "Hilwarpf_5ir",
        "colab_type": "code",
        "colab": {},
        "outputId": "d5b57ceb-4f1d-41a3-b010-6f22412a44d8"
      },
      "source": [
        "sms = pd.read_csv('../input/sms-spam-collection-dataset/spam.csv',encoding='latin1')\n",
        "sms = sms.iloc[:,[0,1]]\n",
        "sms.columns = [\"label\", \"message\"]\n",
        "sms.head()\n"
      ],
      "execution_count": null,
      "outputs": [
        {
          "output_type": "execute_result",
          "data": {
            "text/html": [
              "<div>\n",
              "<style scoped>\n",
              "    .dataframe tbody tr th:only-of-type {\n",
              "        vertical-align: middle;\n",
              "    }\n",
              "\n",
              "    .dataframe tbody tr th {\n",
              "        vertical-align: top;\n",
              "    }\n",
              "\n",
              "    .dataframe thead th {\n",
              "        text-align: right;\n",
              "    }\n",
              "</style>\n",
              "<table border=\"1\" class=\"dataframe\">\n",
              "  <thead>\n",
              "    <tr style=\"text-align: right;\">\n",
              "      <th></th>\n",
              "      <th>label</th>\n",
              "      <th>message</th>\n",
              "    </tr>\n",
              "  </thead>\n",
              "  <tbody>\n",
              "    <tr>\n",
              "      <th>0</th>\n",
              "      <td>ham</td>\n",
              "      <td>Go until jurong point, crazy.. Available only ...</td>\n",
              "    </tr>\n",
              "    <tr>\n",
              "      <th>1</th>\n",
              "      <td>ham</td>\n",
              "      <td>Ok lar... Joking wif u oni...</td>\n",
              "    </tr>\n",
              "    <tr>\n",
              "      <th>2</th>\n",
              "      <td>spam</td>\n",
              "      <td>Free entry in 2 a wkly comp to win FA Cup fina...</td>\n",
              "    </tr>\n",
              "    <tr>\n",
              "      <th>3</th>\n",
              "      <td>ham</td>\n",
              "      <td>U dun say so early hor... U c already then say...</td>\n",
              "    </tr>\n",
              "    <tr>\n",
              "      <th>4</th>\n",
              "      <td>ham</td>\n",
              "      <td>Nah I don't think he goes to usf, he lives aro...</td>\n",
              "    </tr>\n",
              "  </tbody>\n",
              "</table>\n",
              "</div>"
            ],
            "text/plain": [
              "  label                                            message\n",
              "0   ham  Go until jurong point, crazy.. Available only ...\n",
              "1   ham                      Ok lar... Joking wif u oni...\n",
              "2  spam  Free entry in 2 a wkly comp to win FA Cup fina...\n",
              "3   ham  U dun say so early hor... U c already then say...\n",
              "4   ham  Nah I don't think he goes to usf, he lives aro..."
            ]
          },
          "metadata": {
            "tags": []
          },
          "execution_count": 2
        }
      ]
    },
    {
      "cell_type": "code",
      "metadata": {
        "id": "4_ALRo_B_5iw",
        "colab_type": "code",
        "colab": {},
        "outputId": "5d31dfa6-7bb2-4e0a-9cf9-7830d0a78c2b"
      },
      "source": [
        "sms.shape"
      ],
      "execution_count": null,
      "outputs": [
        {
          "output_type": "execute_result",
          "data": {
            "text/plain": [
              "(5572, 2)"
            ]
          },
          "metadata": {
            "tags": []
          },
          "execution_count": 3
        }
      ]
    },
    {
      "cell_type": "markdown",
      "metadata": {
        "id": "-ltO7t3r_5i1",
        "colab_type": "text"
      },
      "source": [
        "# Exploratory Data Analysis\n"
      ]
    },
    {
      "cell_type": "markdown",
      "metadata": {
        "id": "VDtvfPn3_5i2",
        "colab_type": "text"
      },
      "source": [
        "Lets find  the number of spam message and ham messages in the dataset using visualization.747 spam messages are found out of 5572 messages"
      ]
    },
    {
      "cell_type": "code",
      "metadata": {
        "id": "4tsBGnfs_5i3",
        "colab_type": "code",
        "colab": {},
        "outputId": "4cda0aeb-2f2a-4a20-de35-757a5ac407c6"
      },
      "source": [
        "count_Class=pd.value_counts(sms[\"label\"], sort= True)\n",
        "count_Class.plot(kind = 'bar',color = [\"green\",\"red\"])\n",
        "plt.title('Bar Plot')\n",
        "plt.show();"
      ],
      "execution_count": null,
      "outputs": [
        {
          "output_type": "display_data",
          "data": {
            "image/png": "[encoded data removed]",
            "text/plain": [
              "<Figure size 432x288 with 1 Axes>"
            ]
          },
          "metadata": {
            "tags": []
          }
        }
      ]
    },
    {
      "cell_type": "code",
      "metadata": {
        "id": "JvaD_YN0_5i7",
        "colab_type": "code",
        "colab": {},
        "outputId": "f55519ad-00d7-49d6-d245-20fabf6b5b24"
      },
      "source": [
        "#747 spam messages  are there\n",
        "sms.groupby('label').describe()"
      ],
      "execution_count": null,
      "outputs": [
        {
          "output_type": "execute_result",
          "data": {
            "text/html": [
              "<div>\n",
              "<style scoped>\n",
              "    .dataframe tbody tr th:only-of-type {\n",
              "        vertical-align: middle;\n",
              "    }\n",
              "\n",
              "    .dataframe tbody tr th {\n",
              "        vertical-align: top;\n",
              "    }\n",
              "\n",
              "    .dataframe thead tr th {\n",
              "        text-align: left;\n",
              "    }\n",
              "\n",
              "    .dataframe thead tr:last-of-type th {\n",
              "        text-align: right;\n",
              "    }\n",
              "</style>\n",
              "<table border=\"1\" class=\"dataframe\">\n",
              "  <thead>\n",
              "    <tr>\n",
              "      <th></th>\n",
              "      <th colspan=\"4\" halign=\"left\">message</th>\n",
              "    </tr>\n",
              "    <tr>\n",
              "      <th></th>\n",
              "      <th>count</th>\n",
              "      <th>unique</th>\n",
              "      <th>top</th>\n",
              "      <th>freq</th>\n",
              "    </tr>\n",
              "    <tr>\n",
              "      <th>label</th>\n",
              "      <th></th>\n",
              "      <th></th>\n",
              "      <th></th>\n",
              "      <th></th>\n",
              "    </tr>\n",
              "  </thead>\n",
              "  <tbody>\n",
              "    <tr>\n",
              "      <th>ham</th>\n",
              "      <td>4825</td>\n",
              "      <td>4516</td>\n",
              "      <td>Sorry, I'll call later</td>\n",
              "      <td>30</td>\n",
              "    </tr>\n",
              "    <tr>\n",
              "      <th>spam</th>\n",
              "      <td>747</td>\n",
              "      <td>653</td>\n",
              "      <td>Please call our customer service representativ...</td>\n",
              "      <td>4</td>\n",
              "    </tr>\n",
              "  </tbody>\n",
              "</table>\n",
              "</div>"
            ],
            "text/plain": [
              "      message                                                               \n",
              "        count unique                                                top freq\n",
              "label                                                                       \n",
              "ham      4825   4516                             Sorry, I'll call later   30\n",
              "spam      747    653  Please call our customer service representativ...    4"
            ]
          },
          "metadata": {
            "tags": []
          },
          "execution_count": 5
        }
      ]
    },
    {
      "cell_type": "markdown",
      "metadata": {
        "id": "5u9mgOma_5i_",
        "colab_type": "text"
      },
      "source": [
        "lets add another coloumn length for storing the length of each message .It will help us to find the lengths of the messages as well as we can compare the length of spam and ham by vizualisation techinques"
      ]
    },
    {
      "cell_type": "code",
      "metadata": {
        "id": "aRVkEOPV_5jA",
        "colab_type": "code",
        "colab": {},
        "outputId": "d49c01ea-1cae-478e-c17e-70c19a049b66"
      },
      "source": [
        "#lets add length coloumn to the data\n",
        "sms['length'] = sms['message'].apply(len)\n",
        "sms.head()"
      ],
      "execution_count": null,
      "outputs": [
        {
          "output_type": "execute_result",
          "data": {
            "text/html": [
              "<div>\n",
              "<style scoped>\n",
              "    .dataframe tbody tr th:only-of-type {\n",
              "        vertical-align: middle;\n",
              "    }\n",
              "\n",
              "    .dataframe tbody tr th {\n",
              "        vertical-align: top;\n",
              "    }\n",
              "\n",
              "    .dataframe thead th {\n",
              "        text-align: right;\n",
              "    }\n",
              "</style>\n",
              "<table border=\"1\" class=\"dataframe\">\n",
              "  <thead>\n",
              "    <tr style=\"text-align: right;\">\n",
              "      <th></th>\n",
              "      <th>label</th>\n",
              "      <th>message</th>\n",
              "      <th>length</th>\n",
              "    </tr>\n",
              "  </thead>\n",
              "  <tbody>\n",
              "    <tr>\n",
              "      <th>0</th>\n",
              "      <td>ham</td>\n",
              "      <td>Go until jurong point, crazy.. Available only ...</td>\n",
              "      <td>111</td>\n",
              "    </tr>\n",
              "    <tr>\n",
              "      <th>1</th>\n",
              "      <td>ham</td>\n",
              "      <td>Ok lar... Joking wif u oni...</td>\n",
              "      <td>29</td>\n",
              "    </tr>\n",
              "    <tr>\n",
              "      <th>2</th>\n",
              "      <td>spam</td>\n",
              "      <td>Free entry in 2 a wkly comp to win FA Cup fina...</td>\n",
              "      <td>155</td>\n",
              "    </tr>\n",
              "    <tr>\n",
              "      <th>3</th>\n",
              "      <td>ham</td>\n",
              "      <td>U dun say so early hor... U c already then say...</td>\n",
              "      <td>49</td>\n",
              "    </tr>\n",
              "    <tr>\n",
              "      <th>4</th>\n",
              "      <td>ham</td>\n",
              "      <td>Nah I don't think he goes to usf, he lives aro...</td>\n",
              "      <td>61</td>\n",
              "    </tr>\n",
              "  </tbody>\n",
              "</table>\n",
              "</div>"
            ],
            "text/plain": [
              "  label                                            message  length\n",
              "0   ham  Go until jurong point, crazy.. Available only ...     111\n",
              "1   ham                      Ok lar... Joking wif u oni...      29\n",
              "2  spam  Free entry in 2 a wkly comp to win FA Cup fina...     155\n",
              "3   ham  U dun say so early hor... U c already then say...      49\n",
              "4   ham  Nah I don't think he goes to usf, he lives aro...      61"
            ]
          },
          "metadata": {
            "tags": []
          },
          "execution_count": 6
        }
      ]
    },
    {
      "cell_type": "code",
      "metadata": {
        "id": "MWZ_ARHS_5jH",
        "colab_type": "code",
        "colab": {},
        "outputId": "d8049cf6-befe-4018-dfe5-6dd3aa8a0efa"
      },
      "source": [
        "\n",
        "fig = plt.figure(dpi = 120)\n",
        "ax = plt.axes()\n",
        "sms['length'].plot(bins=50, kind='hist',ax=ax,color = 'indigo')\n",
        "ax.set(xlabel = 'Message Length Class',ylabel = 'Frequency',title = 'Length Distribution');\n"
      ],
      "execution_count": null,
      "outputs": [
        {
          "output_type": "display_data",
          "data": {
            "image/png": "[encoded data removed]",
            "text/plain": [
              "<Figure size 720x480 with 1 Axes>"
            ]
          },
          "metadata": {
            "tags": []
          }
        }
      ]
    },
    {
      "cell_type": "code",
      "metadata": {
        "id": "hhbG_I08_5jM",
        "colab_type": "code",
        "colab": {},
        "outputId": "87f415d3-076e-47b9-80bc-9e278a7eae1a"
      },
      "source": [
        "# comparison of spam and ham messages   \n",
        "plt.figure(figsize=(12, 8))\n",
        "\n",
        "sms[sms.label=='ham'].length.plot(bins=35, kind='hist', color='green', \n",
        "                                       label='Ham messages', alpha=0.6)\n",
        "sms[sms.label=='spam'].length.plot(kind='hist', color='red', \n",
        "                                       label='Spam messages', alpha=0.6)\n",
        "plt.legend()\n",
        "plt.xlabel(\"Message Length\")"
      ],
      "execution_count": null,
      "outputs": [
        {
          "output_type": "execute_result",
          "data": {
            "text/plain": [
              "Text(0.5, 0, 'Message Length')"
            ]
          },
          "metadata": {
            "tags": []
          },
          "execution_count": 8
        },
        {
          "output_type": "display_data",
          "data": {
            "image/png": "[encoded data removed]",
            "text/plain": [
              "<Figure size 864x576 with 1 Axes>"
            ]
          },
          "metadata": {
            "tags": []
          }
        }
      ]
    },
    {
      "cell_type": "markdown",
      "metadata": {
        "id": "TQdS3Sh3_5jS",
        "colab_type": "text"
      },
      "source": [
        "Lets visualize the most commen words used in both spam and ham messages"
      ]
    },
    {
      "cell_type": "code",
      "metadata": {
        "id": "v-pE7ejD_5jT",
        "colab_type": "code",
        "colab": {}
      },
      "source": [
        "from collections import Counter\n",
        "\n",
        "count1 = Counter(\" \".join(sms[sms['label']=='ham'][\"message\"]).split()).most_common(20)\n",
        "df1 = pd.DataFrame.from_dict(count1)\n",
        "df1 = df1.rename(columns={0: \"words in non-spam\", 1 : \"count\"})\n",
        "count2 = Counter(\" \".join(sms[sms['label']=='spam'][\"message\"]).split()).most_common(20)\n",
        "df2 = pd.DataFrame.from_dict(count2)\n",
        "df2 = df2.rename(columns={0: \"words in spam\", 1 : \"count_\"})"
      ],
      "execution_count": null,
      "outputs": []
    },
    {
      "cell_type": "code",
      "metadata": {
        "id": "aCkMLHM2_5jY",
        "colab_type": "code",
        "colab": {},
        "outputId": "67a3ab48-0fbc-4a61-c987-5d79aa4aff53"
      },
      "source": [
        "df1.plot.bar(legend = False,color=\"black\")\n",
        "y_pos = np.arange(len(df1[\"words in non-spam\"]))\n",
        "plt.xticks(y_pos, df1[\"words in non-spam\"])\n",
        "plt.title('More frequent words in non-spam messages')\n",
        "plt.xlabel('words')\n",
        "plt.ylabel('number')\n",
        "plt.show()\n",
        "\n",
        "\n",
        "df2.plot.bar(legend = False, color = 'blue')\n",
        "y_pos = np.arange(len(df2[\"words in spam\"]))\n",
        "plt.xticks(y_pos, df2[\"words in spam\"])\n",
        "plt.title('More frequent words in spam messages')\n",
        "plt.xlabel('words')\n",
        "plt.ylabel('number')\n",
        "plt.show()\n"
      ],
      "execution_count": null,
      "outputs": [
        {
          "output_type": "display_data",
          "data": {
            "image/png": "[encoded data removed]",
            "text/plain": [
              "<Figure size 432x288 with 1 Axes>"
            ]
          },
          "metadata": {
            "tags": []
          }
        },
        {
          "output_type": "display_data",
          "data": {
            "image/png": "[encoded data removed]",
            "text/plain": [
              "<Figure size 432x288 with 1 Axes>"
            ]
          },
          "metadata": {
            "tags": []
          }
        }
      ]
    },
    {
      "cell_type": "markdown",
      "metadata": {
        "id": "kzBK3A23_5jc",
        "colab_type": "text"
      },
      "source": [
        "randomaly checking a message in the dataset\n"
      ]
    },
    {
      "cell_type": "code",
      "metadata": {
        "id": "5MgXz2V0_5jd",
        "colab_type": "code",
        "colab": {},
        "outputId": "d1680b70-64cd-4e28-b9a6-e824be36dc07"
      },
      "source": [
        "#randomaly checking a message\n",
        "sms[sms.length == 200].message.iloc[0]\n"
      ],
      "execution_count": null,
      "outputs": [
        {
          "output_type": "execute_result",
          "data": {
            "text/plain": [
              "'Open rebtel with firefox. When it loads just put plus sign in the user name place, and it will show you two numbers. The lower number is my number. Once you pick that number the pin will display okay!'"
            ]
          },
          "metadata": {
            "tags": []
          },
          "execution_count": 11
        }
      ]
    },
    {
      "cell_type": "markdown",
      "metadata": {
        "id": "oVAFiQDG_5jl",
        "colab_type": "text"
      },
      "source": [
        "## Text preproccessing"
      ]
    },
    {
      "cell_type": "code",
      "metadata": {
        "id": "NmcoQx4v_5jm",
        "colab_type": "code",
        "colab": {},
        "outputId": "0e10beb3-6f0b-4f22-eb93-816dff780e7a"
      },
      "source": [
        "#importing libaries required\n",
        "from keras.preprocessing.text import Tokenizer\n",
        "from keras.layers import Embedding, LSTM, Dropout, Dense\n",
        "from keras.models import Sequential\n",
        "from keras.utils import to_categorical\n"
      ],
      "execution_count": null,
      "outputs": [
        {
          "output_type": "stream",
          "text": [
            "Using TensorFlow backend.\n"
          ],
          "name": "stderr"
        }
      ]
    },
    {
      "cell_type": "code",
      "metadata": {
        "id": "Yv2tcwFD_5jq",
        "colab_type": "code",
        "colab": {}
      },
      "source": [
        "vocab_size = 400\n",
        "oov_tok = \"<OOV>\"\n",
        "max_length = 250\n",
        "embedding_dim = 16\n"
      ],
      "execution_count": null,
      "outputs": []
    },
    {
      "cell_type": "markdown",
      "metadata": {
        "id": "n1m4O0YA_5jt",
        "colab_type": "text"
      },
      "source": [
        "Replacing the catogorical values in such a way that spam as 1 and ham as 0."
      ]
    },
    {
      "cell_type": "code",
      "metadata": {
        "id": "dYcMsbxH_5ju",
        "colab_type": "code",
        "colab": {}
      },
      "source": [
        "encode = ({'ham': 0, 'spam': 1} )\n",
        "#new dataset with replaced values\n",
        "sms = sms.replace(encode)"
      ],
      "execution_count": null,
      "outputs": []
    },
    {
      "cell_type": "code",
      "metadata": {
        "id": "md_ECYzk_5jy",
        "colab_type": "code",
        "colab": {},
        "outputId": "c2c39000-7716-45fc-e8b1-060547648740"
      },
      "source": [
        "sms.head()"
      ],
      "execution_count": null,
      "outputs": [
        {
          "output_type": "execute_result",
          "data": {
            "text/html": [
              "<div>\n",
              "<style scoped>\n",
              "    .dataframe tbody tr th:only-of-type {\n",
              "        vertical-align: middle;\n",
              "    }\n",
              "\n",
              "    .dataframe tbody tr th {\n",
              "        vertical-align: top;\n",
              "    }\n",
              "\n",
              "    .dataframe thead th {\n",
              "        text-align: right;\n",
              "    }\n",
              "</style>\n",
              "<table border=\"1\" class=\"dataframe\">\n",
              "  <thead>\n",
              "    <tr style=\"text-align: right;\">\n",
              "      <th></th>\n",
              "      <th>label</th>\n",
              "      <th>message</th>\n",
              "      <th>length</th>\n",
              "    </tr>\n",
              "  </thead>\n",
              "  <tbody>\n",
              "    <tr>\n",
              "      <th>0</th>\n",
              "      <td>0</td>\n",
              "      <td>Go until jurong point, crazy.. Available only ...</td>\n",
              "      <td>111</td>\n",
              "    </tr>\n",
              "    <tr>\n",
              "      <th>1</th>\n",
              "      <td>0</td>\n",
              "      <td>Ok lar... Joking wif u oni...</td>\n",
              "      <td>29</td>\n",
              "    </tr>\n",
              "    <tr>\n",
              "      <th>2</th>\n",
              "      <td>1</td>\n",
              "      <td>Free entry in 2 a wkly comp to win FA Cup fina...</td>\n",
              "      <td>155</td>\n",
              "    </tr>\n",
              "    <tr>\n",
              "      <th>3</th>\n",
              "      <td>0</td>\n",
              "      <td>U dun say so early hor... U c already then say...</td>\n",
              "      <td>49</td>\n",
              "    </tr>\n",
              "    <tr>\n",
              "      <th>4</th>\n",
              "      <td>0</td>\n",
              "      <td>Nah I don't think he goes to usf, he lives aro...</td>\n",
              "      <td>61</td>\n",
              "    </tr>\n",
              "  </tbody>\n",
              "</table>\n",
              "</div>"
            ],
            "text/plain": [
              "   label                                            message  length\n",
              "0      0  Go until jurong point, crazy.. Available only ...     111\n",
              "1      0                      Ok lar... Joking wif u oni...      29\n",
              "2      1  Free entry in 2 a wkly comp to win FA Cup fina...     155\n",
              "3      0  U dun say so early hor... U c already then say...      49\n",
              "4      0  Nah I don't think he goes to usf, he lives aro...      61"
            ]
          },
          "metadata": {
            "tags": []
          },
          "execution_count": 15
        }
      ]
    },
    {
      "cell_type": "code",
      "metadata": {
        "id": "AiJoTrAb_5j2",
        "colab_type": "code",
        "colab": {}
      },
      "source": [
        "\n",
        "X = sms['message']\n",
        "Y = sms['label']\n"
      ],
      "execution_count": null,
      "outputs": []
    },
    {
      "cell_type": "code",
      "metadata": {
        "id": "kDdjicJW_5j6",
        "colab_type": "code",
        "colab": {}
      },
      "source": [
        "\n",
        "tokenizer = Tokenizer(num_words=vocab_size, oov_token=oov_tok)\n",
        "tokenizer.fit_on_texts(X)\n",
        "# convert to sequence of integers\n",
        "X = tokenizer.texts_to_sequences(X)"
      ],
      "execution_count": null,
      "outputs": []
    },
    {
      "cell_type": "code",
      "metadata": {
        "id": "DmgYMmZb_5j-",
        "colab_type": "code",
        "colab": {}
      },
      "source": [
        "X = np.array(X)\n",
        "y = np.array(Y)\n"
      ],
      "execution_count": null,
      "outputs": []
    },
    {
      "cell_type": "code",
      "metadata": {
        "id": "Y1eKLHXM_5kD",
        "colab_type": "code",
        "colab": {}
      },
      "source": [
        "from keras.preprocessing.sequence import pad_sequences\n",
        "\n",
        "X = pad_sequences(X, maxlen=max_length)\n"
      ],
      "execution_count": null,
      "outputs": []
    },
    {
      "cell_type": "markdown",
      "metadata": {
        "id": "CAPpEeR__5kH",
        "colab_type": "text"
      },
      "source": [
        " spliting the data as training and test data"
      ]
    },
    {
      "cell_type": "code",
      "metadata": {
        "id": "12UIkM_3_5kI",
        "colab_type": "code",
        "colab": {}
      },
      "source": [
        "from sklearn.model_selection import train_test_split\n",
        "\n",
        "X_train, X_test, y_train, y_test = train_test_split(X, Y, test_size=.25, random_state=7)\n"
      ],
      "execution_count": null,
      "outputs": []
    },
    {
      "cell_type": "markdown",
      "metadata": {
        "id": "aJrwC2_9_5kL",
        "colab_type": "text"
      },
      "source": [
        "# Model\n"
      ]
    },
    {
      "cell_type": "code",
      "metadata": {
        "id": "3D8d24Tv_5kM",
        "colab_type": "code",
        "colab": {},
        "outputId": "3a5d0ec6-18b8-469a-e181-5f1d4e5382bd"
      },
      "source": [
        "\n",
        "import tensorflow as tf\n",
        "\n",
        "model = tf.keras.Sequential([\n",
        "    tf.keras.layers.Embedding(vocab_size, embedding_dim, input_length=max_length),\n",
        "    tf.keras.layers.GlobalAveragePooling1D(),\n",
        "    tf.keras.layers.Dense(24, activation='relu'),\n",
        "    tf.keras.layers.Dense(1, activation='sigmoid')\n",
        "])\n",
        "model.compile(loss='binary_crossentropy',optimizer='adam',metrics=['accuracy'])\n",
        "model.summary()\n"
      ],
      "execution_count": null,
      "outputs": [
        {
          "output_type": "stream",
          "text": [
            "Model: \"sequential\"\n",
            "_________________________________________________________________\n",
            "Layer (type)                 Output Shape              Param #   \n",
            "=================================================================\n",
            "embedding (Embedding)        (None, 250, 16)           6400      \n",
            "_________________________________________________________________\n",
            "global_average_pooling1d (Gl (None, 16)                0         \n",
            "_________________________________________________________________\n",
            "dense (Dense)                (None, 24)                408       \n",
            "_________________________________________________________________\n",
            "dense_1 (Dense)              (None, 1)                 25        \n",
            "=================================================================\n",
            "Total params: 6,833\n",
            "Trainable params: 6,833\n",
            "Non-trainable params: 0\n",
            "_________________________________________________________________\n"
          ],
          "name": "stdout"
        }
      ]
    },
    {
      "cell_type": "code",
      "metadata": {
        "id": "grfNzGw4_5kP",
        "colab_type": "code",
        "colab": {},
        "outputId": "8fa91461-3789-4503-fd54-01391d74220c"
      },
      "source": [
        "num_epochs = 30\n",
        "history = model.fit(X_train, y_train, epochs=num_epochs, validation_data=(X_test,y_test), verbose=2)"
      ],
      "execution_count": null,
      "outputs": [
        {
          "output_type": "stream",
          "text": [
            "Epoch 1/30\n",
            "131/131 - 1s - loss: 0.5430 - accuracy: 0.8545 - val_loss: 0.3932 - val_accuracy: 0.8693\n",
            "Epoch 2/30\n",
            "131/131 - 0s - loss: 0.3849 - accuracy: 0.8648 - val_loss: 0.3700 - val_accuracy: 0.8693\n",
            "Epoch 3/30\n",
            "131/131 - 0s - loss: 0.3735 - accuracy: 0.8648 - val_loss: 0.3596 - val_accuracy: 0.8693\n",
            "Epoch 4/30\n",
            "131/131 - 0s - loss: 0.3611 - accuracy: 0.8648 - val_loss: 0.3449 - val_accuracy: 0.8693\n",
            "Epoch 5/30\n",
            "131/131 - 0s - loss: 0.3394 - accuracy: 0.8648 - val_loss: 0.3156 - val_accuracy: 0.8693\n",
            "Epoch 6/30\n",
            "131/131 - 0s - loss: 0.2953 - accuracy: 0.8638 - val_loss: 0.2546 - val_accuracy: 0.8679\n",
            "Epoch 7/30\n",
            "131/131 - 0s - loss: 0.2230 - accuracy: 0.8957 - val_loss: 0.1823 - val_accuracy: 0.9203\n",
            "Epoch 8/30\n",
            "131/131 - 0s - loss: 0.1660 - accuracy: 0.9445 - val_loss: 0.1391 - val_accuracy: 0.9576\n",
            "Epoch 9/30\n",
            "131/131 - 0s - loss: 0.1353 - accuracy: 0.9567 - val_loss: 0.1169 - val_accuracy: 0.9627\n",
            "Epoch 10/30\n",
            "131/131 - 0s - loss: 0.1184 - accuracy: 0.9631 - val_loss: 0.1050 - val_accuracy: 0.9627\n",
            "Epoch 11/30\n",
            "131/131 - 0s - loss: 0.1066 - accuracy: 0.9655 - val_loss: 0.0928 - val_accuracy: 0.9648\n",
            "Epoch 12/30\n",
            "131/131 - 0s - loss: 0.0967 - accuracy: 0.9698 - val_loss: 0.0849 - val_accuracy: 0.9713\n",
            "Epoch 13/30\n",
            "131/131 - 0s - loss: 0.0902 - accuracy: 0.9703 - val_loss: 0.0787 - val_accuracy: 0.9734\n",
            "Epoch 14/30\n",
            "131/131 - 0s - loss: 0.0834 - accuracy: 0.9730 - val_loss: 0.0762 - val_accuracy: 0.9749\n",
            "Epoch 15/30\n",
            "131/131 - 0s - loss: 0.0782 - accuracy: 0.9744 - val_loss: 0.0698 - val_accuracy: 0.9749\n",
            "Epoch 16/30\n",
            "131/131 - 0s - loss: 0.0726 - accuracy: 0.9751 - val_loss: 0.0694 - val_accuracy: 0.9763\n",
            "Epoch 17/30\n",
            "131/131 - 0s - loss: 0.0689 - accuracy: 0.9763 - val_loss: 0.0641 - val_accuracy: 0.9785\n",
            "Epoch 18/30\n",
            "131/131 - 0s - loss: 0.0651 - accuracy: 0.9787 - val_loss: 0.0643 - val_accuracy: 0.9799\n",
            "Epoch 19/30\n",
            "131/131 - 0s - loss: 0.0632 - accuracy: 0.9775 - val_loss: 0.0602 - val_accuracy: 0.9799\n",
            "Epoch 20/30\n",
            "131/131 - 0s - loss: 0.0599 - accuracy: 0.9789 - val_loss: 0.0585 - val_accuracy: 0.9799\n",
            "Epoch 21/30\n",
            "131/131 - 0s - loss: 0.0600 - accuracy: 0.9804 - val_loss: 0.0593 - val_accuracy: 0.9799\n",
            "Epoch 22/30\n",
            "131/131 - 0s - loss: 0.0556 - accuracy: 0.9801 - val_loss: 0.0562 - val_accuracy: 0.9813\n",
            "Epoch 23/30\n",
            "131/131 - 0s - loss: 0.0545 - accuracy: 0.9828 - val_loss: 0.0555 - val_accuracy: 0.9821\n",
            "Epoch 24/30\n",
            "131/131 - 0s - loss: 0.0526 - accuracy: 0.9821 - val_loss: 0.0566 - val_accuracy: 0.9821\n",
            "Epoch 25/30\n",
            "131/131 - 0s - loss: 0.0513 - accuracy: 0.9830 - val_loss: 0.0560 - val_accuracy: 0.9813\n",
            "Epoch 26/30\n",
            "131/131 - 0s - loss: 0.0503 - accuracy: 0.9837 - val_loss: 0.0543 - val_accuracy: 0.9828\n",
            "Epoch 27/30\n",
            "131/131 - 0s - loss: 0.0482 - accuracy: 0.9840 - val_loss: 0.0528 - val_accuracy: 0.9835\n",
            "Epoch 28/30\n",
            "131/131 - 0s - loss: 0.0478 - accuracy: 0.9847 - val_loss: 0.0552 - val_accuracy: 0.9828\n",
            "Epoch 29/30\n",
            "131/131 - 0s - loss: 0.0462 - accuracy: 0.9847 - val_loss: 0.0532 - val_accuracy: 0.9856\n",
            "Epoch 30/30\n",
            "131/131 - 0s - loss: 0.0447 - accuracy: 0.9859 - val_loss: 0.0521 - val_accuracy: 0.9842\n"
          ],
          "name": "stdout"
        }
      ]
    },
    {
      "cell_type": "code",
      "metadata": {
        "id": "r_aU1b_1_5kU",
        "colab_type": "code",
        "colab": {},
        "outputId": "d9dd6dc5-0590-4ebd-9f52-bd4506668f0b"
      },
      "source": [
        "result = model.evaluate(X_test, y_test)\n",
        "# extract those\n",
        "loss = result[0]\n",
        "accuracy = result[1]\n",
        "\n",
        "\n",
        "print(f\"[+] Accuracy: {accuracy*100:.2f}%\")\n"
      ],
      "execution_count": null,
      "outputs": [
        {
          "output_type": "stream",
          "text": [
            "44/44 [==============================] - 0s 1ms/step - loss: 0.0521 - accuracy: 0.9842\n",
            "[+] Accuracy: 98.42%\n"
          ],
          "name": "stdout"
        }
      ]
    },
    {
      "cell_type": "markdown",
      "metadata": {
        "id": "yKCM5PvU_5ka",
        "colab_type": "text"
      },
      "source": [
        "# predictions"
      ]
    },
    {
      "cell_type": "code",
      "metadata": {
        "id": "z0cOVB_P_5kb",
        "colab_type": "code",
        "colab": {}
      },
      "source": [
        "from keras.preprocessing import sequence\n"
      ],
      "execution_count": null,
      "outputs": []
    },
    {
      "cell_type": "code",
      "metadata": {
        "id": "RQDxrPB-_5ke",
        "colab_type": "code",
        "colab": {}
      },
      "source": [
        "def get_predictions(txts):\n",
        "    txts = tokenizer.texts_to_sequences(txts)\n",
        "    txts = sequence.pad_sequences(txts, maxlen=max_length)\n",
        "    preds = model.predict(txts)\n",
        "    if(preds[0] > 0.5):\n",
        "        print(\"SPAM MESSAGE\")\n",
        "        \n",
        "    else:\n",
        "        print('NOT SPAM')\n",
        "\n",
        "    "
      ],
      "execution_count": null,
      "outputs": []
    },
    {
      "cell_type": "markdown",
      "metadata": {
        "id": "Gl9ogjYX_5kh",
        "colab_type": "text"
      },
      "source": [
        "lets check 2 messages one is a spam and the other one is not spam "
      ]
    },
    {
      "cell_type": "code",
      "metadata": {
        "id": "31IpZLMn_5ki",
        "colab_type": "code",
        "colab": {},
        "outputId": "348154a1-e446-43d4-9970-d5de8d2a7dcc"
      },
      "source": [
        "# Spam message\n",
        "txts=[\"Free entry in 2 a wkly comp to win FA Cup final tkts 21st May 2005\"]\n",
        "\n",
        "get_predictions(txts)"
      ],
      "execution_count": null,
      "outputs": [
        {
          "output_type": "stream",
          "text": [
            "SPAM MESSAGE\n"
          ],
          "name": "stdout"
        }
      ]
    },
    {
      "cell_type": "code",
      "metadata": {
        "id": "1sD6rgfZ_5ko",
        "colab_type": "code",
        "colab": {},
        "outputId": "96980289-19c6-45bd-8d98-0082c75eca4c"
      },
      "source": [
        "#not Spam\n",
        "txts = [\"Hi man, I was wondering if we can meet tomorrow.\"]\n",
        "get_predictions(txts)"
      ],
      "execution_count": null,
      "outputs": [
        {
          "output_type": "stream",
          "text": [
            "NOT SPAM\n"
          ],
          "name": "stdout"
        }
      ]
    },
    {
      "cell_type": "markdown",
      "metadata": {
        "id": "djw0ldBe_5ks",
        "colab_type": "text"
      },
      "source": [
        "> Our model is succesfully classifying the messages into 2 classes\n",
        "# Thanks for reading my notebook .If you like my work,please upvote it !"
      ]
    }
  ]
}